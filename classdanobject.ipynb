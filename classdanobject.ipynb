{
  "nbformat": 4,
  "nbformat_minor": 0,
  "metadata": {
    "colab": {
      "provenance": [],
      "authorship_tag": "ABX9TyPkxGtYPFLCE6uNt0LjCBVA",
      "include_colab_link": true
    },
    "kernelspec": {
      "name": "python3",
      "display_name": "Python 3"
    },
    "language_info": {
      "name": "python"
    }
  },
  "cells": [
    {
      "cell_type": "markdown",
      "metadata": {
        "id": "view-in-github",
        "colab_type": "text"
      },
      "source": [
        "<a href=\"https://colab.research.google.com/github/Fuadtausa1307/Pratikum-pbo/blob/main/classdanobject.ipynb\" target=\"_parent\"><img src=\"https://colab.research.google.com/assets/colab-badge.svg\" alt=\"Open In Colab\"/></a>"
      ]
    },
    {
      "cell_type": "code",
      "execution_count": 8,
      "metadata": {
        "colab": {
          "base_uri": "https://localhost:8080/"
        },
        "id": "qS92cnA0EHsL",
        "outputId": "bd42e560-b22f-4318-9d51-88506ea41438"
      },
      "outputs": [
        {
          "output_type": "stream",
          "name": "stdout",
          "text": [
            "Motor merk Yamaha dengan kapasitas 150cc berwarna merah.\n"
          ]
        }
      ],
      "source": [
        "class Motor:\n",
        "    def __init__(self, merk, cc, warna):\n",
        "        self.merk = merk\n",
        "        self.cc = cc\n",
        "        self.warna = warna\n",
        "\n",
        "    def deskripsi(self):\n",
        "        return f\"Motor merk {self.merk} dengan kapasitas {self.cc}cc berwarna {self.warna}.\"\n",
        "\n",
        "\n",
        "# Contoh penggunaan\n",
        "if __name__ == \"__main__\":\n",
        "    motor1 = Motor(\"Yamaha\", 150, \"merah\")\n",
        "    print(motor1.deskripsi())\n"
      ]
    },
    {
      "cell_type": "code",
      "source": [
        "class Laptop:\n",
        "    def __init__(self, merk, ram_gb, penyimpanan_gb):\n",
        "        self.merk = merk\n",
        "        self.ram_gb = ram_gb\n",
        "        self.penyimpanan_gb = penyimpanan_gb\n",
        "\n",
        "    def spesifikasi(self):\n",
        "        return f\"Laptop {self.merk} dengan RAM {self.ram_gb}GB dan penyimpanan {self.penyimpanan_gb}GB.\"\n",
        "\n",
        "\n",
        "# Contoh penggunaan\n",
        "if __name__ == \"__main__\":\n",
        "    laptop1 = Laptop(\"Asus\", 8, 512)\n",
        "    print(laptop1.spesifikasi())\n"
      ],
      "metadata": {
        "colab": {
          "base_uri": "https://localhost:8080/"
        },
        "id": "2hWozyYkLHuL",
        "outputId": "4cd7bef9-88ac-4256-fa1b-fba3426cb53c"
      },
      "execution_count": 9,
      "outputs": [
        {
          "output_type": "stream",
          "name": "stdout",
          "text": [
            "Laptop Asus dengan RAM 8GB dan penyimpanan 512GB.\n"
          ]
        }
      ]
    },
    {
      "cell_type": "code",
      "source": [
        "class Buku:\n",
        "    def __init__(self, judul, penulis, halaman):\n",
        "        self.judul = judul\n",
        "        self.penulis = penulis\n",
        "        self.halaman = halaman\n",
        "\n",
        "    def info_buku(self):\n",
        "        return f\"Buku '{self.judul}' karya {self.penulis}, terdiri dari {self.halaman} halaman.\"\n",
        "\n",
        "\n",
        "# Contoh penggunaan\n",
        "if __name__ == \"__main__\":\n",
        "    buku1 = Buku(\"Python untuk Pemula\", \"Andi\", 300)\n",
        "    print(buku1.info_buku())\n"
      ],
      "metadata": {
        "colab": {
          "base_uri": "https://localhost:8080/"
        },
        "id": "OIjmVtEyMGow",
        "outputId": "4f4eda95-4d50-4100-a763-4c3a2c4b31cd"
      },
      "execution_count": 10,
      "outputs": [
        {
          "output_type": "stream",
          "name": "stdout",
          "text": [
            "Buku 'Python untuk Pemula' karya Andi, terdiri dari 300 halaman.\n"
          ]
        }
      ]
    },
    {
      "cell_type": "code",
      "source": [
        "class Smartphone:\n",
        "    def __init__(self, merk, kamera_mp, baterai_mah):\n",
        "        self.merk = merk\n",
        "        self.kamera_mp = kamera_mp\n",
        "        self.baterai_mah = baterai_mah\n",
        "\n",
        "    def fitur(self):\n",
        "        return f\"Smartphone {self.merk} dengan kamera {self.kamera_mp}MP dan baterai {self.baterai_mah}mAh.\"\n",
        "\n",
        "\n",
        "# Contoh penggunaan\n",
        "if __name__ == \"__main__\":\n",
        "    hp1 = Smartphone(\"Samsung\", 48, 4000)\n",
        "    print(hp1.fitur())\n"
      ],
      "metadata": {
        "colab": {
          "base_uri": "https://localhost:8080/"
        },
        "id": "M3iqGGnyMKtA",
        "outputId": "b88f7864-add3-42f5-e6c3-5e4c57f8e167"
      },
      "execution_count": 11,
      "outputs": [
        {
          "output_type": "stream",
          "name": "stdout",
          "text": [
            "Smartphone Samsung dengan kamera 48MP dan baterai 4000mAh.\n"
          ]
        }
      ]
    },
    {
      "cell_type": "code",
      "source": [
        "class Kucing:\n",
        "    def __init__(self, nama, warna_bulu):\n",
        "        self.nama = nama\n",
        "        self.warna_bulu = warna_bulu\n",
        "\n",
        "    def meong(self):\n",
        "        return f\"{self.nama} si kucing berbulu {self.warna_bulu} sedang mengeong.\"\n",
        "\n",
        "\n",
        "# Contoh penggunaan\n",
        "if __name__ == \"__main__\":\n",
        "    kucing1 = Kucing(\"Mimi\", \"putih\")\n",
        "    print(kucing1.meong())\n"
      ],
      "metadata": {
        "colab": {
          "base_uri": "https://localhost:8080/"
        },
        "id": "NS5YTXvfMPg5",
        "outputId": "3f1a1c8c-56f7-4e4e-9d40-842c7ecbdbba"
      },
      "execution_count": 12,
      "outputs": [
        {
          "output_type": "stream",
          "name": "stdout",
          "text": [
            "Mimi si kucing berbulu putih sedang mengeong.\n"
          ]
        }
      ]
    }
  ]
}