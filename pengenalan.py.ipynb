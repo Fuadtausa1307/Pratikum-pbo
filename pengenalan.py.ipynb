{
  "nbformat": 4,
  "nbformat_minor": 0,
  "metadata": {
    "colab": {
      "provenance": [],
      "authorship_tag": "ABX9TyOFHJcQUAmKUNwAtfGtGGkL",
      "include_colab_link": true
    },
    "kernelspec": {
      "name": "python3",
      "display_name": "Python 3"
    },
    "language_info": {
      "name": "python"
    }
  },
  "cells": [
    {
      "cell_type": "markdown",
      "metadata": {
        "id": "view-in-github",
        "colab_type": "text"
      },
      "source": [
        "<a href=\"https://colab.research.google.com/github/Fuadtausa1307/Pratikum-pbo/blob/main/pengenalan.py.ipynb\" target=\"_parent\"><img src=\"https://colab.research.google.com/assets/colab-badge.svg\" alt=\"Open In Colab\"/></a>"
      ]
    },
    {
      "cell_type": "code",
      "execution_count": 2,
      "metadata": {
        "colab": {
          "base_uri": "https://localhost:8080/"
        },
        "id": "qS92cnA0EHsL",
        "outputId": "fa408b76-aa65-42ac-d316-237345ba270e"
      },
      "outputs": [
        {
          "output_type": "stream",
          "name": "stdout",
          "text": [
            "Bunaiya Alfuad Tausa\n",
            "Mahasiswa Teknologi Informasi\n",
            "UIN Ar-Raniry\n",
            "Jalan Syech Abdurrauf, Kopelma Darussalam\n",
            "Banda Aceh 23111\n",
            "Indonesia\n",
            "\n",
            "\n",
            "Masukkan ukuran panjang dalam satuan meter: 7\n",
            "Masukkan ukuran lebar dalam satuan meter: 6\n",
            "Luas dari kamar ini adalah 42.0 meter persegi\n",
            "\n",
            "\n",
            "Masukkan bilangan bulat positif: 6\n",
            "Jumlah dari 6 bilangan positif pertama adalah 21.0\n",
            "\n",
            "\n",
            "Masukkan bilangan x: 8\n",
            "Masukkan bilangan y: 15\n",
            "8 + 15 = 23\n",
            "8 - 15 = -7\n",
            "8 * 15 = 120\n",
            "8 / 15 = 0.5333333333333333\n",
            "8 % 15 = 8\n",
            "Logaritma basis 10 dari 8 adalah 0.9030899869919435\n",
            "8 ^ 15 = 35184372088832\n"
          ]
        }
      ],
      "source": [
        "# 1. Menampilkan Alamat Lengkap\n",
        "\n",
        "print(\"Bunaiya Alfuad Tausa\")\n",
        "print(\"Mahasiswa Teknologi Informasi\")\n",
        "print(\"UIN Ar-Raniry\")\n",
        "print(\"Jalan Syech Abdurrauf, Kopelma Darussalam\")\n",
        "print(\"Banda Aceh 23111\")\n",
        "print(\"Indonesia\")\n",
        "\n",
        "print(\"\\n\")  # Pemisah output antar bagian\n",
        "\n",
        "\n",
        "# 2. Menghitung Luas Kamar\n",
        "\n",
        "# Input dari user\n",
        "panjang = float(input(\"Masukkan ukuran panjang dalam satuan meter: \"))\n",
        "lebar = float(input(\"Masukkan ukuran lebar dalam satuan meter: \"))\n",
        "\n",
        "# Hitung luas\n",
        "luas = panjang * lebar\n",
        "\n",
        "# Tampilkan hasil\n",
        "print(\"Luas dari kamar ini adalah\", luas, \"meter persegi\")\n",
        "\n",
        "print(\"\\n\")\n",
        "\n",
        "# 3. Menghitung Jumlah Bilangan Positif Pertama\n",
        "\n",
        "# Input dari user\n",
        "n = int(input(\"Masukkan bilangan bulat positif: \"))\n",
        "\n",
        "# Hitung jumlah menggunakan rumus deret aritmetika\n",
        "jumlah = n * (n + 1) / 2\n",
        "\n",
        "# Tampilkan hasil\n",
        "print(\"Jumlah dari\", n, \"bilangan positif pertama adalah\", jumlah)\n",
        "\n",
        "print(\"\\n\")\n",
        "\n",
        "\n",
        "# 4. Operasi Matematika dan Logaritma\n",
        "\n",
        "\n",
        "from math import log10\n",
        "\n",
        "# Input dari user\n",
        "x = int(input(\"Masukkan bilangan x: \"))\n",
        "y = int(input(\"Masukkan bilangan y: \"))\n",
        "\n",
        "# Operasi matematika dasar\n",
        "print(x, \"+\", y, \"=\", x + y)\n",
        "print(x, \"-\", y, \"=\", x - y)\n",
        "print(x, \"*\", y, \"=\", x * y)\n",
        "print(x, \"/\", y, \"=\", x / y)\n",
        "print(x, \"%\", y, \"=\", x % y)\n",
        "\n",
        "# Logaritma dan pangkat\n",
        "print(\"Logaritma basis 10 dari\", x, \"adalah\", log10(x))\n",
        "print(x, \"^\", y, \"=\", x ** y)\n"
      ]
    }
  ]
}